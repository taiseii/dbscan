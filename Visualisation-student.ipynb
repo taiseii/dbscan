{
 "cells": [
  {
   "cell_type": "markdown",
   "metadata": {},
   "source": [
    "### Visualisation of output\n",
    "\n",
    "This file provides some basic functionality for you to review the clustering of your implementation.\n",
    "\n",
    "If you do not change the I/O functions this should select the correct plotter for the output for each programming assignment."
   ]
  },
  {
   "cell_type": "code",
   "execution_count": null,
   "metadata": {
    "collapsed": true
   },
   "outputs": [],
   "source": [
    "import pandas as pd\n",
    "import numpy as np\n",
    "import seaborn as sns\n",
    "import math\n",
    "from sklearn import datasets\n",
    "\n",
    "%matplotlib inline\n",
    "import matplotlib.pyplot as plt\n",
    "from mpl_toolkits.mplot3d import Axes3D\n",
    "plt.rcParams['figure.figsize'] = 6,6  # default hor./vert. size of plots, in inches\n",
    "plt.rcParams['lines.markeredgewidth'] = 1  # to fix issue with seaborn box plots; needed after import seaborn"
   ]
  },
  {
   "cell_type": "code",
   "execution_count": null,
   "metadata": {
    "collapsed": true
   },
   "outputs": [],
   "source": [
    "def ass_1(lines):\n",
    "    n, d, c = lines[0].split()\n",
    "    print(n, d, c)\n",
    "    lines.pop(0)\n",
    "    df = pd.DataFrame([[float(j) for j in i.split()] for i in lines])\n",
    "    if d == '2':\n",
    "        plot = df.plot(kind='scatter', x=0, y=1, c=df.columns.size-1, colormap='tab20', colorbar=False)\n",
    "    if d == '3':\n",
    "        print()\n",
    "        fig = plt.figure()\n",
    "        ax = fig.add_subplot(111, projection='3d')\n",
    "        xs = df.iloc[:,0].tolist()\n",
    "        ys = df.iloc[:,1].tolist()\n",
    "        zs = df.iloc[:,2].tolist()\n",
    "        c = df.iloc[:,3].tolist()\n",
    "        ax.scatter(xs, ys, zs, c=c, cmap='tab20')\n",
    "\n",
    "def ass_2(lines):\n",
    "    n, d, c = lines[0].split()\n",
    "    print(n, d, c)\n",
    "    lines.pop(0)\n",
    "    df = pd.DataFrame([[float(j) for j in i.split()] for i in lines[:-int(c)]])\n",
    "    cd = [[float(j) for j in i.split()] for i in lines[-int(c):]]\n",
    "    if d == '2':\n",
    "        plot = df.plot(kind='scatter', x=0, y=1, c=df.columns.size-1, colormap='tab20', colorbar=False)\n",
    "        x, y = zip(*cd)\n",
    "        plot.scatter(x, y, marker='X', s=150, c=range(int(c)), cmap='tab20', linewidths=1, edgecolors='black')\n",
    "    if d == '3':\n",
    "        df.columns = ['x', 'y', 'z', 'c']\n",
    "        sns.pairplot(df, vars=['x', 'y', 'z'], hue='c')\n",
    "\n",
    "plotters = {\n",
    "    '1': ass_1,\n",
    "    '2': ass_2\n",
    "}"
   ]
  },
  {
   "cell_type": "code",
   "execution_count": null,
   "metadata": {
    "collapsed": true
   },
   "outputs": [],
   "source": [
    "def plot_file(fl):\n",
    "    with open(fl) as f:\n",
    "        lines = f.read().splitlines()\n",
    "    a = lines[0].split()[0]\n",
    "    print(a)\n",
    "    lines.pop(0)\n",
    "    plotters[a](lines)"
   ]
  },
  {
   "cell_type": "markdown",
   "metadata": {},
   "source": [
    "Make sure the path is correct to wherever you print your output"
   ]
  },
  {
   "cell_type": "code",
   "execution_count": null,
   "metadata": {},
   "outputs": [],
   "source": [
    "plot_file('../output/00.out')"
   ]
  },
  {
   "cell_type": "code",
   "execution_count": null,
   "metadata": {},
   "outputs": [],
   "source": [
    "plot_file('../output/01.out')"
   ]
  },
  {
   "cell_type": "code",
   "execution_count": null,
   "metadata": {},
   "outputs": [],
   "source": [
    "plot_file('../output/02.out')"
   ]
  },
  {
   "cell_type": "code",
   "execution_count": null,
   "metadata": {},
   "outputs": [],
   "source": [
    "plot_file('../output/03.out')"
   ]
  },
  {
   "cell_type": "code",
   "execution_count": null,
   "metadata": {},
   "outputs": [],
   "source": [
    "plot_file('../output/04.out')"
   ]
  },
  {
   "cell_type": "code",
   "execution_count": null,
   "metadata": {},
   "outputs": [],
   "source": [
    "plot_file('../output/05.out')"
   ]
  },
  {
   "cell_type": "code",
   "execution_count": null,
   "metadata": {},
   "outputs": [],
   "source": [
    "plot_file('../output/06.out')"
   ]
  }
 ],
 "metadata": {
  "kernelspec": {
   "display_name": "Python 3",
   "language": "python",
   "name": "python3"
  },
  "language_info": {
   "codemirror_mode": {
    "name": "ipython",
    "version": 3
   },
   "file_extension": ".py",
   "mimetype": "text/x-python",
   "name": "python",
   "nbconvert_exporter": "python",
   "pygments_lexer": "ipython3",
   "version": "3.6.1"
  }
 },
 "nbformat": 4,
 "nbformat_minor": 2
}
